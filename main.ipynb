{
 "cells": [
  {
   "cell_type": "code",
   "execution_count": 123,
   "metadata": {
    "collapsed": true
   },
   "outputs": [],
   "source": [
    "import pandas as pd\n",
    "from scipy import stats\n",
    "import datetime as dt\n",
    "import matplotlib.pyplot as plt\n",
    "from sklearn.preprocessing import MinMaxScaler\n",
    "from sklearn.cluster import KMeans\n",
    "from scipy.cluster.hierarchy import dendrogram\n",
    "from scipy.cluster.hierarchy import linkage\n",
    "from yellowbrick.cluster import KElbowVisualizer\n",
    "from sklearn.cluster import AgglomerativeClustering\n",
    "import seaborn as sns\n",
    "import numpy as np\n",
    "import warnings\n",
    "warnings.filterwarnings(\"ignore\")"
   ]
  },
  {
   "cell_type": "code",
   "execution_count": 124,
   "outputs": [],
   "source": [
    "df = pd.read_csv(\"flo_data_20k.csv\")"
   ],
   "metadata": {
    "collapsed": false
   }
  },
  {
   "cell_type": "markdown",
   "source": [
    "#############################################\n",
    "# 1. Genel Resim\n",
    "#############################################"
   ],
   "metadata": {
    "collapsed": false
   }
  },
  {
   "cell_type": "code",
   "execution_count": 125,
   "outputs": [
    {
     "name": "stdout",
     "output_type": "stream",
     "text": [
      "##################### Shape #####################\n",
      "(19945, 12)\n",
      "##################### Types #####################\n",
      "master_id                             object\n",
      "order_channel                         object\n",
      "last_order_channel                    object\n",
      "first_order_date                      object\n",
      "last_order_date                       object\n",
      "last_order_date_online                object\n",
      "last_order_date_offline               object\n",
      "order_num_total_ever_online          float64\n",
      "order_num_total_ever_offline         float64\n",
      "customer_value_total_ever_offline    float64\n",
      "customer_value_total_ever_online     float64\n",
      "interested_in_categories_12           object\n",
      "dtype: object\n",
      "##################### Head #####################\n",
      "                              master_id order_channel last_order_channel  \\\n",
      "0  cc294636-19f0-11eb-8d74-000d3a38a36f   Android App            Offline   \n",
      "1  f431bd5a-ab7b-11e9-a2fc-000d3a38a36f   Android App             Mobile   \n",
      "2  69b69676-1a40-11ea-941b-000d3a38a36f   Android App        Android App   \n",
      "3  1854e56c-491f-11eb-806e-000d3a38a36f   Android App        Android App   \n",
      "4  d6ea1074-f1f5-11e9-9346-000d3a38a36f       Desktop            Desktop   \n",
      "\n",
      "  first_order_date last_order_date last_order_date_online  \\\n",
      "0       2020-10-30      2021-02-26             2021-02-21   \n",
      "1       2017-02-08      2021-02-16             2021-02-16   \n",
      "2       2019-11-27      2020-11-27             2020-11-27   \n",
      "3       2021-01-06      2021-01-17             2021-01-17   \n",
      "4       2019-08-03      2021-03-07             2021-03-07   \n",
      "\n",
      "  last_order_date_offline  order_num_total_ever_online  \\\n",
      "0              2021-02-26                          4.0   \n",
      "1              2020-01-10                         19.0   \n",
      "2              2019-12-01                          3.0   \n",
      "3              2021-01-06                          1.0   \n",
      "4              2019-08-03                          1.0   \n",
      "\n",
      "   order_num_total_ever_offline  customer_value_total_ever_offline  \\\n",
      "0                           1.0                             139.99   \n",
      "1                           2.0                             159.97   \n",
      "2                           2.0                             189.97   \n",
      "3                           1.0                              39.99   \n",
      "4                           1.0                              49.99   \n",
      "\n",
      "   customer_value_total_ever_online       interested_in_categories_12  \n",
      "0                            799.38                           [KADIN]  \n",
      "1                           1853.58  [ERKEK, COCUK, KADIN, AKTIFSPOR]  \n",
      "2                            395.35                    [ERKEK, KADIN]  \n",
      "3                             81.98               [AKTIFCOCUK, COCUK]  \n",
      "4                            159.99                       [AKTIFSPOR]  \n",
      "##################### Tail #####################\n",
      "                                  master_id order_channel last_order_channel  \\\n",
      "19940  727e2b6e-ddd4-11e9-a848-000d3a38a36f   Android App            Offline   \n",
      "19941  25cd53d4-61bf-11ea-8dd8-000d3a38a36f       Desktop            Desktop   \n",
      "19942  8aea4c2a-d6fc-11e9-93bc-000d3a38a36f       Ios App            Ios App   \n",
      "19943  e50bb46c-ff30-11e9-a5e8-000d3a38a36f   Android App        Android App   \n",
      "19944  740998d2-b1f7-11e9-89fa-000d3a38a36f   Android App        Android App   \n",
      "\n",
      "      first_order_date last_order_date last_order_date_online  \\\n",
      "19940       2019-09-21      2020-07-05             2020-06-05   \n",
      "19941       2020-03-01      2020-12-22             2020-12-22   \n",
      "19942       2019-09-11      2021-05-24             2021-05-24   \n",
      "19943       2019-03-27      2021-02-13             2021-02-13   \n",
      "19944       2019-09-03      2020-06-06             2020-06-06   \n",
      "\n",
      "      last_order_date_offline  order_num_total_ever_online  \\\n",
      "19940              2020-07-05                          1.0   \n",
      "19941              2020-03-01                          1.0   \n",
      "19942              2019-09-11                          2.0   \n",
      "19943              2021-01-08                          1.0   \n",
      "19944              2019-09-03                          1.0   \n",
      "\n",
      "       order_num_total_ever_offline  customer_value_total_ever_offline  \\\n",
      "19940                           2.0                             289.98   \n",
      "19941                           1.0                             150.48   \n",
      "19942                           1.0                             139.98   \n",
      "19943                           5.0                             711.79   \n",
      "19944                           1.0                              39.99   \n",
      "\n",
      "       customer_value_total_ever_online interested_in_categories_12  \n",
      "19940                            111.98          [ERKEK, AKTIFSPOR]  \n",
      "19941                            239.99                 [AKTIFSPOR]  \n",
      "19942                            492.96                 [AKTIFSPOR]  \n",
      "19943                            297.98          [ERKEK, AKTIFSPOR]  \n",
      "19944                            221.98          [KADIN, AKTIFSPOR]  \n",
      "##################### Unique #####################\n",
      "master_id                            19945\n",
      "order_channel                            4\n",
      "last_order_channel                       5\n",
      "first_order_date                      2465\n",
      "last_order_date                        366\n",
      "last_order_date_online                1743\n",
      "last_order_date_offline                738\n",
      "order_num_total_ever_online             57\n",
      "order_num_total_ever_offline            32\n",
      "customer_value_total_ever_offline     6097\n",
      "customer_value_total_ever_online     11292\n",
      "interested_in_categories_12             32\n",
      "dtype: int64\n",
      "##################### NA #####################\n",
      "master_id                            0\n",
      "order_channel                        0\n",
      "last_order_channel                   0\n",
      "first_order_date                     0\n",
      "last_order_date                      0\n",
      "last_order_date_online               0\n",
      "last_order_date_offline              0\n",
      "order_num_total_ever_online          0\n",
      "order_num_total_ever_offline         0\n",
      "customer_value_total_ever_offline    0\n",
      "customer_value_total_ever_online     0\n",
      "interested_in_categories_12          0\n",
      "dtype: int64\n",
      "##################### Quantiles #####################\n",
      "                                     count        mean         std    min  \\\n",
      "order_num_total_ever_online        19945.0    3.110855    4.225647   1.00   \n",
      "order_num_total_ever_offline       19945.0    1.913913    2.062880   1.00   \n",
      "customer_value_total_ever_offline  19945.0  253.922597  301.532853  10.00   \n",
      "customer_value_total_ever_online   19945.0  497.321690  832.601886  12.99   \n",
      "\n",
      "                                      0%     5%     50%       95%        99%  \\\n",
      "order_num_total_ever_online         1.00   1.00    2.00    10.000    20.0000   \n",
      "order_num_total_ever_offline        1.00   1.00    1.00     4.000     7.0000   \n",
      "customer_value_total_ever_offline  10.00  39.99  179.98   694.222  1219.9468   \n",
      "customer_value_total_ever_online   12.99  63.99  286.46  1556.726  3143.8104   \n",
      "\n",
      "                                       100%       max  \n",
      "order_num_total_ever_online          200.00    200.00  \n",
      "order_num_total_ever_offline         109.00    109.00  \n",
      "customer_value_total_ever_offline  18119.14  18119.14  \n",
      "customer_value_total_ever_online   45220.13  45220.13  \n"
     ]
    }
   ],
   "source": [
    "\n",
    "def check_df(dataframe, head=5, tail=5):\n",
    "    print(\"##################### Shape #####################\")\n",
    "    print(dataframe.shape)\n",
    "    print(\"##################### Types #####################\")\n",
    "    print(dataframe.dtypes)\n",
    "    print(\"##################### Head #####################\")\n",
    "    print(dataframe.head(head))\n",
    "    print(\"##################### Tail #####################\")\n",
    "    print(dataframe.tail(tail))\n",
    "    print(\"##################### Unique #####################\")\n",
    "    print(dataframe.nunique())\n",
    "    print(\"##################### NA #####################\")\n",
    "    print(dataframe.isnull().sum())\n",
    "    print(\"##################### Quantiles #####################\")\n",
    "    print(dataframe.describe([0, 0.05, 0.50, 0.95, 0.99, 1]).T)\n",
    "\n",
    "check_df(df)"
   ],
   "metadata": {
    "collapsed": false
   }
  },
  {
   "cell_type": "markdown",
   "source": [
    "#############################################\n",
    "# tarih değişkenine çevirme\n",
    "#############################################"
   ],
   "metadata": {
    "collapsed": false
   }
  },
  {
   "cell_type": "code",
   "execution_count": 126,
   "outputs": [],
   "source": [
    "date_columns = df.columns[df.columns.str.contains(\"date\")]\n",
    "df[date_columns] = df[date_columns].apply(pd.to_datetime)"
   ],
   "metadata": {
    "collapsed": false
   }
  },
  {
   "cell_type": "code",
   "execution_count": 127,
   "outputs": [],
   "source": [
    "df[\"last_order_date\"].max()\n",
    "analysis_date = dt.datetime(2023,11,2)"
   ],
   "metadata": {
    "collapsed": false
   }
  },
  {
   "cell_type": "markdown",
   "source": [
    " # en son kaç gün önce alışveriş yaptı"
   ],
   "metadata": {
    "collapsed": false
   }
  },
  {
   "cell_type": "code",
   "execution_count": 128,
   "outputs": [],
   "source": [
    "df[\"recency\"] = (analysis_date - df[\"last_order_date\"]).astype('timedelta64[D]')"
   ],
   "metadata": {
    "collapsed": false
   }
  },
  {
   "cell_type": "markdown",
   "source": [
    "# Müşteri yaşı"
   ],
   "metadata": {
    "collapsed": false
   }
  },
  {
   "cell_type": "code",
   "execution_count": 129,
   "outputs": [],
   "source": [
    "df[\"tenure\"] = (df[\"last_order_date\"]-df[\"first_order_date\"]).astype('timedelta64[D]')"
   ],
   "metadata": {
    "collapsed": false
   }
  },
  {
   "cell_type": "code",
   "execution_count": 130,
   "outputs": [
    {
     "data": {
      "text/plain": "   order_num_total_ever_online  order_num_total_ever_offline  \\\n0                          4.0                           1.0   \n1                         19.0                           2.0   \n2                          3.0                           2.0   \n3                          1.0                           1.0   \n4                          1.0                           1.0   \n\n   customer_value_total_ever_offline  customer_value_total_ever_online  \\\n0                             139.99                            799.38   \n1                             159.97                           1853.58   \n2                             189.97                            395.35   \n3                              39.99                             81.98   \n4                              49.99                            159.99   \n\n   recency  tenure  \n0    979.0   119.0  \n1    989.0  1469.0  \n2   1070.0   366.0  \n3   1019.0    11.0  \n4    970.0   582.0  ",
      "text/html": "<div>\n<style scoped>\n    .dataframe tbody tr th:only-of-type {\n        vertical-align: middle;\n    }\n\n    .dataframe tbody tr th {\n        vertical-align: top;\n    }\n\n    .dataframe thead th {\n        text-align: right;\n    }\n</style>\n<table border=\"1\" class=\"dataframe\">\n  <thead>\n    <tr style=\"text-align: right;\">\n      <th></th>\n      <th>order_num_total_ever_online</th>\n      <th>order_num_total_ever_offline</th>\n      <th>customer_value_total_ever_offline</th>\n      <th>customer_value_total_ever_online</th>\n      <th>recency</th>\n      <th>tenure</th>\n    </tr>\n  </thead>\n  <tbody>\n    <tr>\n      <th>0</th>\n      <td>4.0</td>\n      <td>1.0</td>\n      <td>139.99</td>\n      <td>799.38</td>\n      <td>979.0</td>\n      <td>119.0</td>\n    </tr>\n    <tr>\n      <th>1</th>\n      <td>19.0</td>\n      <td>2.0</td>\n      <td>159.97</td>\n      <td>1853.58</td>\n      <td>989.0</td>\n      <td>1469.0</td>\n    </tr>\n    <tr>\n      <th>2</th>\n      <td>3.0</td>\n      <td>2.0</td>\n      <td>189.97</td>\n      <td>395.35</td>\n      <td>1070.0</td>\n      <td>366.0</td>\n    </tr>\n    <tr>\n      <th>3</th>\n      <td>1.0</td>\n      <td>1.0</td>\n      <td>39.99</td>\n      <td>81.98</td>\n      <td>1019.0</td>\n      <td>11.0</td>\n    </tr>\n    <tr>\n      <th>4</th>\n      <td>1.0</td>\n      <td>1.0</td>\n      <td>49.99</td>\n      <td>159.99</td>\n      <td>970.0</td>\n      <td>582.0</td>\n    </tr>\n  </tbody>\n</table>\n</div>"
     },
     "execution_count": 130,
     "metadata": {},
     "output_type": "execute_result"
    }
   ],
   "source": [
    "model_df = df[[\"order_num_total_ever_online\",\"order_num_total_ever_offline\",\"customer_value_total_ever_offline\",\"customer_value_total_ever_online\",\"recency\",\"tenure\"]]\n",
    "model_df.head()"
   ],
   "metadata": {
    "collapsed": false
   }
  },
  {
   "cell_type": "markdown",
   "source": [
    "# Scaling"
   ],
   "metadata": {
    "collapsed": false
   }
  },
  {
   "cell_type": "code",
   "execution_count": 131,
   "outputs": [
    {
     "data": {
      "text/plain": "   order_num_total_ever_online  order_num_total_ever_offline  \\\n0                     0.015075                      0.000000   \n1                     0.090452                      0.009259   \n2                     0.010050                      0.009259   \n3                     0.000000                      0.000000   \n4                     0.000000                      0.000000   \n\n   customer_value_total_ever_offline  customer_value_total_ever_online  \\\n0                           0.007178                          0.017395   \n1                           0.008281                          0.040715   \n2                           0.009938                          0.008458   \n3                           0.001656                          0.001526   \n4                           0.002208                          0.003252   \n\n    recency    tenure  \n0  0.254795  0.039222  \n1  0.282192  0.484179  \n2  0.504110  0.120633  \n3  0.364384  0.003626  \n4  0.230137  0.191826  ",
      "text/html": "<div>\n<style scoped>\n    .dataframe tbody tr th:only-of-type {\n        vertical-align: middle;\n    }\n\n    .dataframe tbody tr th {\n        vertical-align: top;\n    }\n\n    .dataframe thead th {\n        text-align: right;\n    }\n</style>\n<table border=\"1\" class=\"dataframe\">\n  <thead>\n    <tr style=\"text-align: right;\">\n      <th></th>\n      <th>order_num_total_ever_online</th>\n      <th>order_num_total_ever_offline</th>\n      <th>customer_value_total_ever_offline</th>\n      <th>customer_value_total_ever_online</th>\n      <th>recency</th>\n      <th>tenure</th>\n    </tr>\n  </thead>\n  <tbody>\n    <tr>\n      <th>0</th>\n      <td>0.015075</td>\n      <td>0.000000</td>\n      <td>0.007178</td>\n      <td>0.017395</td>\n      <td>0.254795</td>\n      <td>0.039222</td>\n    </tr>\n    <tr>\n      <th>1</th>\n      <td>0.090452</td>\n      <td>0.009259</td>\n      <td>0.008281</td>\n      <td>0.040715</td>\n      <td>0.282192</td>\n      <td>0.484179</td>\n    </tr>\n    <tr>\n      <th>2</th>\n      <td>0.010050</td>\n      <td>0.009259</td>\n      <td>0.009938</td>\n      <td>0.008458</td>\n      <td>0.504110</td>\n      <td>0.120633</td>\n    </tr>\n    <tr>\n      <th>3</th>\n      <td>0.000000</td>\n      <td>0.000000</td>\n      <td>0.001656</td>\n      <td>0.001526</td>\n      <td>0.364384</td>\n      <td>0.003626</td>\n    </tr>\n    <tr>\n      <th>4</th>\n      <td>0.000000</td>\n      <td>0.000000</td>\n      <td>0.002208</td>\n      <td>0.003252</td>\n      <td>0.230137</td>\n      <td>0.191826</td>\n    </tr>\n  </tbody>\n</table>\n</div>"
     },
     "execution_count": 131,
     "metadata": {},
     "output_type": "execute_result"
    }
   ],
   "source": [
    "sc = MinMaxScaler((0, 1))\n",
    "model_scaling = sc.fit_transform(model_df)\n",
    "model_df=pd.DataFrame(model_scaling,columns=model_df.columns)\n",
    "model_df.head()"
   ],
   "metadata": {
    "collapsed": false
   }
  },
  {
   "cell_type": "markdown",
   "source": [
    "# Optimum küme sayısını belirleme"
   ],
   "metadata": {
    "collapsed": false
   }
  },
  {
   "cell_type": "code",
   "execution_count": 132,
   "outputs": [
    {
     "data": {
      "text/plain": "<Figure size 576x396 with 2 Axes>",
      "image/png": "[encoded data removed]"
     },
     "metadata": {},
     "output_type": "display_data"
    },
    {
     "data": {
      "text/plain": "<AxesSubplot:title={'center':'Distortion Score Elbow for KMeans Clustering'}, xlabel='k', ylabel='distortion score'>"
     },
     "execution_count": 132,
     "metadata": {},
     "output_type": "execute_result"
    }
   ],
   "source": [
    "kmeans = KMeans()\n",
    "elbow = KElbowVisualizer(kmeans, k=(2, 20))\n",
    "elbow.fit(model_df)\n",
    "elbow.show()"
   ],
   "metadata": {
    "collapsed": false
   }
  },
  {
   "cell_type": "markdown",
   "source": [
    "# Modelinizi oluşturma"
   ],
   "metadata": {
    "collapsed": false
   }
  },
  {
   "cell_type": "code",
   "execution_count": 133,
   "outputs": [
    {
     "data": {
      "text/plain": "array([2, 4, 0, ..., 1, 2, 5])"
     },
     "execution_count": 133,
     "metadata": {},
     "output_type": "execute_result"
    }
   ],
   "source": [
    "k_means = KMeans(n_clusters = 7, random_state= 42).fit(model_df)\n",
    "segments=k_means.labels_\n",
    "segments"
   ],
   "metadata": {
    "collapsed": false
   }
  },
  {
   "cell_type": "markdown",
   "source": [
    "# Kümeleri veriye ekledik."
   ],
   "metadata": {
    "collapsed": false
   }
  },
  {
   "cell_type": "code",
   "execution_count": 134,
   "outputs": [
    {
     "data": {
      "text/plain": "                              master_id  order_num_total_ever_online  \\\n0  cc294636-19f0-11eb-8d74-000d3a38a36f                          4.0   \n1  f431bd5a-ab7b-11e9-a2fc-000d3a38a36f                         19.0   \n2  69b69676-1a40-11ea-941b-000d3a38a36f                          3.0   \n3  1854e56c-491f-11eb-806e-000d3a38a36f                          1.0   \n4  d6ea1074-f1f5-11e9-9346-000d3a38a36f                          1.0   \n\n   order_num_total_ever_offline  customer_value_total_ever_offline  \\\n0                           1.0                             139.99   \n1                           2.0                             159.97   \n2                           2.0                             189.97   \n3                           1.0                              39.99   \n4                           1.0                              49.99   \n\n   customer_value_total_ever_online  recency  tenure  segment  \n0                            799.38    979.0   119.0        2  \n1                           1853.58    989.0  1469.0        4  \n2                            395.35   1070.0   366.0        0  \n3                             81.98   1019.0    11.0        2  \n4                            159.99    970.0   582.0        2  ",
      "text/html": "<div>\n<style scoped>\n    .dataframe tbody tr th:only-of-type {\n        vertical-align: middle;\n    }\n\n    .dataframe tbody tr th {\n        vertical-align: top;\n    }\n\n    .dataframe thead th {\n        text-align: right;\n    }\n</style>\n<table border=\"1\" class=\"dataframe\">\n  <thead>\n    <tr style=\"text-align: right;\">\n      <th></th>\n      <th>master_id</th>\n      <th>order_num_total_ever_online</th>\n      <th>order_num_total_ever_offline</th>\n      <th>customer_value_total_ever_offline</th>\n      <th>customer_value_total_ever_online</th>\n      <th>recency</th>\n      <th>tenure</th>\n      <th>segment</th>\n    </tr>\n  </thead>\n  <tbody>\n    <tr>\n      <th>0</th>\n      <td>cc294636-19f0-11eb-8d74-000d3a38a36f</td>\n      <td>4.0</td>\n      <td>1.0</td>\n      <td>139.99</td>\n      <td>799.38</td>\n      <td>979.0</td>\n      <td>119.0</td>\n      <td>2</td>\n    </tr>\n    <tr>\n      <th>1</th>\n      <td>f431bd5a-ab7b-11e9-a2fc-000d3a38a36f</td>\n      <td>19.0</td>\n      <td>2.0</td>\n      <td>159.97</td>\n      <td>1853.58</td>\n      <td>989.0</td>\n      <td>1469.0</td>\n      <td>4</td>\n    </tr>\n    <tr>\n      <th>2</th>\n      <td>69b69676-1a40-11ea-941b-000d3a38a36f</td>\n      <td>3.0</td>\n      <td>2.0</td>\n      <td>189.97</td>\n      <td>395.35</td>\n      <td>1070.0</td>\n      <td>366.0</td>\n      <td>0</td>\n    </tr>\n    <tr>\n      <th>3</th>\n      <td>1854e56c-491f-11eb-806e-000d3a38a36f</td>\n      <td>1.0</td>\n      <td>1.0</td>\n      <td>39.99</td>\n      <td>81.98</td>\n      <td>1019.0</td>\n      <td>11.0</td>\n      <td>2</td>\n    </tr>\n    <tr>\n      <th>4</th>\n      <td>d6ea1074-f1f5-11e9-9346-000d3a38a36f</td>\n      <td>1.0</td>\n      <td>1.0</td>\n      <td>49.99</td>\n      <td>159.99</td>\n      <td>970.0</td>\n      <td>582.0</td>\n      <td>2</td>\n    </tr>\n  </tbody>\n</table>\n</div>"
     },
     "execution_count": 134,
     "metadata": {},
     "output_type": "execute_result"
    }
   ],
   "source": [
    "final_df = df[[\"master_id\",\"order_num_total_ever_online\",\"order_num_total_ever_offline\",\"customer_value_total_ever_offline\",\"customer_value_total_ever_online\",\"recency\",\"tenure\"]]\n",
    "final_df[\"segment\"] = segments\n",
    "final_df.head()"
   ],
   "metadata": {
    "collapsed": false
   }
  },
  {
   "cell_type": "markdown",
   "source": [
    "# Herbir segment istatistiksel olarak."
   ],
   "metadata": {
    "collapsed": false
   }
  },
  {
   "cell_type": "code",
   "execution_count": 135,
   "outputs": [
    {
     "data": {
      "text/plain": "        order_num_total_ever_online             order_num_total_ever_offline  \\\n                               mean  min    max                         mean   \nsegment                                                                        \n0                          2.329218  1.0   28.0                     1.770062   \n1                          2.914406  1.0   66.0                     1.985678   \n2                          2.291685  1.0   30.0                     1.948260   \n3                          8.073722  1.0  200.0                     2.143876   \n4                          6.246345  1.0   69.0                     2.076023   \n5                          2.044153  1.0   20.0                     1.741448   \n6                          5.216855  1.0   55.0                     1.913669   \n\n                    customer_value_total_ever_offline                   \\\n         min    max                              mean    min       max   \nsegment                                                                  \n0        1.0  109.0                        232.104254  10.49  10239.46   \n1        1.0   81.0                        272.879833  12.99  18119.14   \n2        1.0   74.0                        257.293041  11.98   7247.60   \n3        1.0   24.0                        287.257134  12.99   3215.78   \n4        1.0   36.0                        274.307902  12.99   3589.65   \n5        1.0   87.0                        216.467697  10.00   8432.25   \n6        1.0   16.0                        249.442754  12.99   1811.54   \n\n        customer_value_total_ever_online                       recency  \\\n                                    mean    min       max         mean   \nsegment                                                                  \n0                             391.995764  18.74  12038.18  1086.244342   \n1                             523.438607  19.99  30688.47   914.850885   \n2                             381.690789  14.00   8667.73   994.731134   \n3                            1076.770713  19.99  45220.13   956.568371   \n4                             899.705439  19.99  36687.80   957.614766   \n5                             330.787892  12.99   7665.28  1204.003580   \n6                             648.579702  14.99   7133.14  1147.130524   \n\n                              tenure                        \n            min     max         mean     min     max count  \nsegment                                                     \n0        1041.0  1150.0   458.363426     0.0  1245.0  3888  \n1         886.0   958.0   538.316596     0.0  1089.0  5935  \n2         949.0  1040.0   464.437189     0.0  1053.0  4426  \n3         886.0  1081.0  2210.612366  1753.0  3034.0   841  \n4         886.0  1058.0  1305.260965   841.0  1760.0  1368  \n5        1143.0  1251.0   380.672235     0.0  1245.0  2514  \n6        1049.0  1251.0  1712.082220   985.0  2820.0   973  ",
      "text/html": "<div>\n<style scoped>\n    .dataframe tbody tr th:only-of-type {\n        vertical-align: middle;\n    }\n\n    .dataframe tbody tr th {\n        vertical-align: top;\n    }\n\n    .dataframe thead tr th {\n        text-align: left;\n    }\n\n    .dataframe thead tr:last-of-type th {\n        text-align: right;\n    }\n</style>\n<table border=\"1\" class=\"dataframe\">\n  <thead>\n    <tr>\n      <th></th>\n      <th colspan=\"3\" halign=\"left\">order_num_total_ever_online</th>\n      <th colspan=\"3\" halign=\"left\">order_num_total_ever_offline</th>\n      <th colspan=\"3\" halign=\"left\">customer_value_total_ever_offline</th>\n      <th colspan=\"3\" halign=\"left\">customer_value_total_ever_online</th>\n      <th colspan=\"3\" halign=\"left\">recency</th>\n      <th colspan=\"4\" halign=\"left\">tenure</th>\n    </tr>\n    <tr>\n      <th></th>\n      <th>mean</th>\n      <th>min</th>\n      <th>max</th>\n      <th>mean</th>\n      <th>min</th>\n      <th>max</th>\n      <th>mean</th>\n      <th>min</th>\n      <th>max</th>\n      <th>mean</th>\n      <th>min</th>\n      <th>max</th>\n      <th>mean</th>\n      <th>min</th>\n      <th>max</th>\n      <th>mean</th>\n      <th>min</th>\n      <th>max</th>\n      <th>count</th>\n    </tr>\n    <tr>\n      <th>segment</th>\n      <th></th>\n      <th></th>\n      <th></th>\n      <th></th>\n      <th></th>\n      <th></th>\n      <th></th>\n      <th></th>\n      <th></th>\n      <th></th>\n      <th></th>\n      <th></th>\n      <th></th>\n      <th></th>\n      <th></th>\n      <th></th>\n      <th></th>\n      <th></th>\n      <th></th>\n    </tr>\n  </thead>\n  <tbody>\n    <tr>\n      <th>0</th>\n      <td>2.329218</td>\n      <td>1.0</td>\n      <td>28.0</td>\n      <td>1.770062</td>\n      <td>1.0</td>\n      <td>109.0</td>\n      <td>232.104254</td>\n      <td>10.49</td>\n      <td>10239.46</td>\n      <td>391.995764</td>\n      <td>18.74</td>\n      <td>12038.18</td>\n      <td>1086.244342</td>\n      <td>1041.0</td>\n      <td>1150.0</td>\n      <td>458.363426</td>\n      <td>0.0</td>\n      <td>1245.0</td>\n      <td>3888</td>\n    </tr>\n    <tr>\n      <th>1</th>\n      <td>2.914406</td>\n      <td>1.0</td>\n      <td>66.0</td>\n      <td>1.985678</td>\n      <td>1.0</td>\n      <td>81.0</td>\n      <td>272.879833</td>\n      <td>12.99</td>\n      <td>18119.14</td>\n      <td>523.438607</td>\n      <td>19.99</td>\n      <td>30688.47</td>\n      <td>914.850885</td>\n      <td>886.0</td>\n      <td>958.0</td>\n      <td>538.316596</td>\n      <td>0.0</td>\n      <td>1089.0</td>\n      <td>5935</td>\n    </tr>\n    <tr>\n      <th>2</th>\n      <td>2.291685</td>\n      <td>1.0</td>\n      <td>30.0</td>\n      <td>1.948260</td>\n      <td>1.0</td>\n      <td>74.0</td>\n      <td>257.293041</td>\n      <td>11.98</td>\n      <td>7247.60</td>\n      <td>381.690789</td>\n      <td>14.00</td>\n      <td>8667.73</td>\n      <td>994.731134</td>\n      <td>949.0</td>\n      <td>1040.0</td>\n      <td>464.437189</td>\n      <td>0.0</td>\n      <td>1053.0</td>\n      <td>4426</td>\n    </tr>\n    <tr>\n      <th>3</th>\n      <td>8.073722</td>\n      <td>1.0</td>\n      <td>200.0</td>\n      <td>2.143876</td>\n      <td>1.0</td>\n      <td>24.0</td>\n      <td>287.257134</td>\n      <td>12.99</td>\n      <td>3215.78</td>\n      <td>1076.770713</td>\n      <td>19.99</td>\n      <td>45220.13</td>\n      <td>956.568371</td>\n      <td>886.0</td>\n      <td>1081.0</td>\n      <td>2210.612366</td>\n      <td>1753.0</td>\n      <td>3034.0</td>\n      <td>841</td>\n    </tr>\n    <tr>\n      <th>4</th>\n      <td>6.246345</td>\n      <td>1.0</td>\n      <td>69.0</td>\n      <td>2.076023</td>\n      <td>1.0</td>\n      <td>36.0</td>\n      <td>274.307902</td>\n      <td>12.99</td>\n      <td>3589.65</td>\n      <td>899.705439</td>\n      <td>19.99</td>\n      <td>36687.80</td>\n      <td>957.614766</td>\n      <td>886.0</td>\n      <td>1058.0</td>\n      <td>1305.260965</td>\n      <td>841.0</td>\n      <td>1760.0</td>\n      <td>1368</td>\n    </tr>\n    <tr>\n      <th>5</th>\n      <td>2.044153</td>\n      <td>1.0</td>\n      <td>20.0</td>\n      <td>1.741448</td>\n      <td>1.0</td>\n      <td>87.0</td>\n      <td>216.467697</td>\n      <td>10.00</td>\n      <td>8432.25</td>\n      <td>330.787892</td>\n      <td>12.99</td>\n      <td>7665.28</td>\n      <td>1204.003580</td>\n      <td>1143.0</td>\n      <td>1251.0</td>\n      <td>380.672235</td>\n      <td>0.0</td>\n      <td>1245.0</td>\n      <td>2514</td>\n    </tr>\n    <tr>\n      <th>6</th>\n      <td>5.216855</td>\n      <td>1.0</td>\n      <td>55.0</td>\n      <td>1.913669</td>\n      <td>1.0</td>\n      <td>16.0</td>\n      <td>249.442754</td>\n      <td>12.99</td>\n      <td>1811.54</td>\n      <td>648.579702</td>\n      <td>14.99</td>\n      <td>7133.14</td>\n      <td>1147.130524</td>\n      <td>1049.0</td>\n      <td>1251.0</td>\n      <td>1712.082220</td>\n      <td>985.0</td>\n      <td>2820.0</td>\n      <td>973</td>\n    </tr>\n  </tbody>\n</table>\n</div>"
     },
     "execution_count": 135,
     "metadata": {},
     "output_type": "execute_result"
    }
   ],
   "source": [
    "final_df.groupby(\"segment\").agg({\"order_num_total_ever_online\":[\"mean\",\"min\",\"max\"],\n",
    "                                  \"order_num_total_ever_offline\":[\"mean\",\"min\",\"max\"],\n",
    "                                  \"customer_value_total_ever_offline\":[\"mean\",\"min\",\"max\"],\n",
    "                                  \"customer_value_total_ever_online\":[\"mean\",\"min\",\"max\"],\n",
    "                                  \"recency\":[\"mean\",\"min\",\"max\"],\n",
    "                                  \"tenure\":[\"mean\",\"min\",\"max\",\"count\"]})"
   ],
   "metadata": {
    "collapsed": false
   }
  },
  {
   "cell_type": "code",
   "execution_count": 135,
   "outputs": [],
   "source": [],
   "metadata": {
    "collapsed": false
   }
  }
 ],
 "metadata": {
  "kernelspec": {
   "display_name": "Python 3",
   "language": "python",
   "name": "python3"
  },
  "language_info": {
   "codemirror_mode": {
    "name": "ipython",
    "version": 2
   },
   "file_extension": ".py",
   "mimetype": "text/x-python",
   "name": "python",
   "nbconvert_exporter": "python",
   "pygments_lexer": "ipython2",
   "version": "2.7.6"
  }
 },
 "nbformat": 4,
 "nbformat_minor": 0
}
